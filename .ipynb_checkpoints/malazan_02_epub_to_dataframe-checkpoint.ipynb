{
 "cells": [
  {
   "cell_type": "markdown",
   "id": "97cf9a72",
   "metadata": {},
   "source": [
    "## Preparation"
   ]
  },
  {
   "cell_type": "raw",
   "id": "e373bcdf",
   "metadata": {},
   "source": [
    "#!pip install ebooklib"
   ]
  },
  {
   "cell_type": "code",
   "execution_count": 491,
   "id": "37827488",
   "metadata": {},
   "outputs": [],
   "source": [
    "import re\n",
    "import pandas as pd\n",
    "import ebooklib\n",
    "\n",
    "#https://andrew-muller.medium.com/getting-text-from-epub-files-in-python-fbfe5df5c2da\n",
    "from ebooklib import epub\n",
    "from bs4 import BeautifulSoup"
   ]
  },
  {
   "cell_type": "markdown",
   "id": "875cefb2",
   "metadata": {},
   "source": [
    "## Book"
   ]
  },
  {
   "cell_type": "code",
   "execution_count": 498,
   "id": "e750e147",
   "metadata": {},
   "outputs": [
    {
     "name": "stderr",
     "output_type": "stream",
     "text": [
      "D:\\Programme\\Anaconda\\lib\\site-packages\\ebooklib\\epub.py:1395: UserWarning: In the future version we will turn default option ignore_ncx to True.\n",
      "  warnings.warn('In the future version we will turn default option ignore_ncx to True.')\n"
     ]
    }
   ],
   "source": [
    "book_name = \"1 gardens_of_the_moon\"\n",
    "book = epub.read_epub(\"./data/\" + book_name + \".epub\")\n",
    "book_items = list(book.get_items_of_type(ebooklib.ITEM_DOCUMENT))"
   ]
  },
  {
   "cell_type": "markdown",
   "id": "a652cbfd",
   "metadata": {},
   "source": [
    "## Chapters and Paragraphs"
   ]
  },
  {
   "cell_type": "code",
   "execution_count": 493,
   "id": "50ba398f",
   "metadata": {},
   "outputs": [],
   "source": [
    "def chapter_to_str(chapter):\n",
    "    # get the chapter as strings\n",
    "    soup = BeautifulSoup(chapter.get_body_content(), 'html.parser')\n",
    "    text = [p.get_text() for p in soup.find_all('p')]\n",
    "    \n",
    "    # clean the strings:\n",
    "    # remove newlines (in between words of one sentence)\n",
    "    text = [s.replace(\"\\n\", \" \").strip() for s in text]\n",
    "    # add spaces at the end of a sentence\n",
    "    text = [re.sub(r'(?<=[.,?!)])(?=[^\\s^\\'])', r' ', s) for s in text]\n",
    "    # add a newline after a paranthesis (end of chapter poem)\n",
    "    text = [re.sub(r'(?<=[)])', r'\\n', s) for s in text]\n",
    "    # remove spaces in front of dots (for \"...\")\n",
    "    text = [re.sub(r'\\s([.])', r'\\1', s) for s in text]\n",
    "    \n",
    "    # add newlines between paragraphs to make a chapter string\n",
    "    return '\\n'.join(text)"
   ]
  },
  {
   "cell_type": "code",
   "execution_count": 494,
   "id": "32e8bbba",
   "metadata": {},
   "outputs": [],
   "source": [
    "# prepare the dataframe for all the book chapters\n",
    "chapters = pd.DataFrame(columns=['paragraphs', \"#sentences\",\"#paragraphs\"])\n",
    "\n",
    "# add chapters and their paragraphs\n",
    "for i,c in enumerate(book_items):\n",
    "    # get chapter string\n",
    "    c = chapter_to_str(c)\n",
    "    # split it into paragraphs\n",
    "    ps = re.split('\\n\\n',c)\n",
    "    # remove chapter poems\n",
    "    ps = [p for p in ps if not p.endswith(\")\")]\n",
    "    # join again into a chapter string\n",
    "    c = \"\\n\".join(ps)\n",
    "    # add chapter row to dataframe\n",
    "    chapters.loc[i] = [ps,len(re.split('(?<=[.!?]) +',c)),len(ps)]\n",
    "\n",
    "# remove the irrelevant chapters (dramatis personae, boook poems, acknowledgment, greeting)\n",
    "chapters = chapters[(chapters[\"#sentences\"]>5)]\n",
    "chapters = chapters.drop(index=2)"
   ]
  },
  {
   "cell_type": "raw",
   "id": "f0cd2625",
   "metadata": {},
   "source": [
    "chapters.sort_values(by='#sentences', ascending=True)"
   ]
  },
  {
   "cell_type": "raw",
   "id": "e40fbf83",
   "metadata": {},
   "source": [
    "print(chapters.loc[38].paragraphs)"
   ]
  },
  {
   "cell_type": "code",
   "execution_count": 499,
   "id": "180fcb3d",
   "metadata": {},
   "outputs": [],
   "source": [
    "chapters.to_csv(f\"data/{book_name}.csv\", index=False)"
   ]
  },
  {
   "cell_type": "code",
   "execution_count": null,
   "id": "08d7aa2e",
   "metadata": {},
   "outputs": [],
   "source": []
  }
 ],
 "metadata": {
  "kernelspec": {
   "display_name": "Python 3 (ipykernel)",
   "language": "python",
   "name": "python3"
  },
  "language_info": {
   "codemirror_mode": {
    "name": "ipython",
    "version": 3
   },
   "file_extension": ".py",
   "mimetype": "text/x-python",
   "name": "python",
   "nbconvert_exporter": "python",
   "pygments_lexer": "ipython3",
   "version": "3.9.13"
  }
 },
 "nbformat": 4,
 "nbformat_minor": 5
}
