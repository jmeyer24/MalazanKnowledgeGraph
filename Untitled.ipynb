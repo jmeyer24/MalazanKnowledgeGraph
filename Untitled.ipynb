{
 "cells": [
  {
   "cell_type": "code",
   "execution_count": 12,
   "id": "37d68c25",
   "metadata": {},
   "outputs": [],
   "source": [
    "# !pip install giskard"
   ]
  },
  {
   "cell_type": "markdown",
   "id": "4c25b0b0",
   "metadata": {},
   "source": [
    "All of the following is copy/pasted and adapted to the malazan network\n",
    "https://docs.neurodata.io/notebooks/pedigo/graspologic/connectome/2021/05/06/hemibrain-layout.html#Plot-my-favorite-layout"
   ]
  },
  {
   "cell_type": "markdown",
   "id": "8b7e0cd6",
   "metadata": {},
   "source": [
    "## Load the data\n",
    "Data is from the paper:"
   ]
  },
  {
   "cell_type": "raw",
   "id": "11607aa7",
   "metadata": {},
   "source": [
    " @article{xu2020connectome,\n",
    "  title={A connectome of the adult drosophila central brain},\n",
    "  author={Xu, C Shan and Januszewski, Michal and Lu, Zhiyuan and Takemura, Shin-ya and Hayworth, Kenneth and Huang, Gary and Shinomiya, Kazunori and Maitin-Shepard, Jeremy and Ackerman, David and Berg, Stuart and others},\n",
    "  journal={BioRxiv},\n",
    "  year={2020},\n",
    "  publisher={Cold Spring Harbor Laboratory}\n",
    " }"
   ]
  },
  {
   "cell_type": "code",
   "execution_count": 20,
   "id": "e677e698",
   "metadata": {},
   "outputs": [],
   "source": [
    "import time\n",
    "import datetime\n",
    "from pathlib import Path\n",
    "import pandas as pd\n",
    "import networkx as nx\n",
    "#from giskard.plot import graphplot\n",
    "from graspologic.partition import leiden\n",
    "from graspologic.layouts.colors import _get_colors\n",
    "import numpy as np\n",
    "from graspologic.partition import hierarchical_leiden, HierarchicalCluster\n",
    "#from src.io import savefig\n",
    "from sklearn.model_selection import ParameterGrid\n",
    "import seaborn as sns\n",
    "\n",
    "t0 = time.time()\n",
    "\n",
    "main_random_state = np.random.default_rng(8888)\n",
    "\n",
    "def stashfig(name):\n",
    "    savefig(name, foldername=\"hemibrain-layout\")\n",
    "\n",
    "# TODO this is a bit buried in graspologic, should expose it more explicitly\n",
    "colors = _get_colors(True, None)[\"nominal\"]\n",
    "\n",
    "#data_path = Path(\"maggot_models/data/raw/exported-traced-adjacencies-v1.1\")\n",
    "data_path = Path(\"dataframes\")\n",
    "\n",
    "#neuron_file = \"traced-neurons.csv\"\n",
    "#edgelist_file = \"traced-total-connections.csv\"\n",
    "neuron_file = \"characters.csv\"\n",
    "edgelist_file = \"relationships_1 gardens_of_the_moon.csv\"\n",
    "\n",
    "edgelist_df = pd.read_csv(data_path / edgelist_file)\n",
    "edgelist_df = edgelist_df.rename(columns={\"value\": \"weight\"})"
   ]
  },
  {
   "cell_type": "code",
   "execution_count": 14,
   "id": "f29a1aec",
   "metadata": {},
   "outputs": [
    {
     "data": {
      "text/html": [
       "<div>\n",
       "<style scoped>\n",
       "    .dataframe tbody tr th:only-of-type {\n",
       "        vertical-align: middle;\n",
       "    }\n",
       "\n",
       "    .dataframe tbody tr th {\n",
       "        vertical-align: top;\n",
       "    }\n",
       "\n",
       "    .dataframe thead th {\n",
       "        text-align: right;\n",
       "    }\n",
       "</style>\n",
       "<table border=\"1\" class=\"dataframe\">\n",
       "  <thead>\n",
       "    <tr style=\"text-align: right;\">\n",
       "      <th></th>\n",
       "      <th>source</th>\n",
       "      <th>target</th>\n",
       "      <th>weight</th>\n",
       "    </tr>\n",
       "  </thead>\n",
       "  <tbody>\n",
       "    <tr>\n",
       "      <th>0</th>\n",
       "      <td>A'Karonys</td>\n",
       "      <td>Anomander Rake</td>\n",
       "      <td>5</td>\n",
       "    </tr>\n",
       "    <tr>\n",
       "      <th>1</th>\n",
       "      <td>A'Karonys</td>\n",
       "      <td>Bellurdan</td>\n",
       "      <td>10</td>\n",
       "    </tr>\n",
       "    <tr>\n",
       "      <th>2</th>\n",
       "      <td>A'Karonys</td>\n",
       "      <td>Calot</td>\n",
       "      <td>15</td>\n",
       "    </tr>\n",
       "    <tr>\n",
       "      <th>3</th>\n",
       "      <td>A'Karonys</td>\n",
       "      <td>Dujek Onearm</td>\n",
       "      <td>6</td>\n",
       "    </tr>\n",
       "    <tr>\n",
       "      <th>4</th>\n",
       "      <td>A'Karonys</td>\n",
       "      <td>Hairlock</td>\n",
       "      <td>12</td>\n",
       "    </tr>\n",
       "    <tr>\n",
       "      <th>...</th>\n",
       "      <td>...</td>\n",
       "      <td>...</td>\n",
       "      <td>...</td>\n",
       "    </tr>\n",
       "    <tr>\n",
       "      <th>1359</th>\n",
       "      <td>Topper</td>\n",
       "      <td>Whiskeyjack</td>\n",
       "      <td>9</td>\n",
       "    </tr>\n",
       "    <tr>\n",
       "      <th>1360</th>\n",
       "      <td>Travale</td>\n",
       "      <td>Vorcan</td>\n",
       "      <td>16</td>\n",
       "    </tr>\n",
       "    <tr>\n",
       "      <th>1361</th>\n",
       "      <td>Trotts</td>\n",
       "      <td>Whiskeyjack</td>\n",
       "      <td>67</td>\n",
       "    </tr>\n",
       "    <tr>\n",
       "      <th>1362</th>\n",
       "      <td>Turban Orr</td>\n",
       "      <td>Vorcan</td>\n",
       "      <td>13</td>\n",
       "    </tr>\n",
       "    <tr>\n",
       "      <th>1363</th>\n",
       "      <td>Turban Orr</td>\n",
       "      <td>Whiskeyjack</td>\n",
       "      <td>3</td>\n",
       "    </tr>\n",
       "  </tbody>\n",
       "</table>\n",
       "<p>1364 rows × 3 columns</p>\n",
       "</div>"
      ],
      "text/plain": [
       "          source          target  weight\n",
       "0      A'Karonys  Anomander Rake       5\n",
       "1      A'Karonys       Bellurdan      10\n",
       "2      A'Karonys           Calot      15\n",
       "3      A'Karonys    Dujek Onearm       6\n",
       "4      A'Karonys        Hairlock      12\n",
       "...          ...             ...     ...\n",
       "1359      Topper     Whiskeyjack       9\n",
       "1360     Travale          Vorcan      16\n",
       "1361      Trotts     Whiskeyjack      67\n",
       "1362  Turban Orr          Vorcan      13\n",
       "1363  Turban Orr     Whiskeyjack       3\n",
       "\n",
       "[1364 rows x 3 columns]"
      ]
     },
     "execution_count": 14,
     "metadata": {},
     "output_type": "execute_result"
    }
   ],
   "source": [
    "edgelist_df"
   ]
  },
  {
   "cell_type": "code",
   "execution_count": 15,
   "id": "32aa15c2",
   "metadata": {},
   "outputs": [],
   "source": [
    "g = nx.from_pandas_edgelist(\n",
    "    edgelist_df,\n",
    "    source=\"source\",\n",
    "    target=\"target\",\n",
    "    edge_attr=\"weight\",\n",
    "    create_using=nx.DiGraph,\n",
    ")"
   ]
  },
  {
   "cell_type": "markdown",
   "id": "ee9458b7",
   "metadata": {},
   "source": [
    "## Run community detection for coloring the network"
   ]
  },
  {
   "cell_type": "code",
   "execution_count": 16,
   "id": "15109687",
   "metadata": {},
   "outputs": [
    {
     "name": "stdout",
     "output_type": "stream",
     "text": [
      "Number of unique partitions: 18\n"
     ]
    }
   ],
   "source": [
    "def symmetrze_nx(g):\n",
    "    \"\"\"Leiden requires a symmetric/undirected graph. This converts a directed graph to\n",
    "    undirected just for this community detection step\"\"\"\n",
    "    sym_g = nx.Graph()\n",
    "    for source, target, weight in g.edges.data(\"weight\"):\n",
    "        if sym_g.has_edge(source, target):\n",
    "            sym_g[source][target][\"weight\"] = (\n",
    "                sym_g[source][target][\"weight\"] + weight * 0.5\n",
    "            )\n",
    "        else:\n",
    "            sym_g.add_edge(source, target, weight=weight * 0.5)\n",
    "    return sym_g\n",
    "\n",
    "\n",
    "sym_g = symmetrze_nx(g)\n",
    "leiden_mode = \"flat\"\n",
    "if leiden_mode == \"hierarchical\":\n",
    "    hierarchical_partition = hierarchical_leiden(\n",
    "        sym_g,\n",
    "        check_directed=False,\n",
    "        max_cluster_size=300,\n",
    "        random_seed=int(main_random_state.integers(np.iinfo(np.int32).max)),\n",
    "    )\n",
    "    partition_map = HierarchicalCluster.final_hierarchical_clustering(\n",
    "        hierarchical_partition\n",
    "    )\n",
    "elif leiden_mode == \"flat\":\n",
    "    partition_map = leiden(\n",
    "        sym_g,\n",
    "        resolution=3,\n",
    "        random_seed=int(main_random_state.integers(np.iinfo(np.int32).max)),\n",
    "    )\n",
    "print(f\"Number of unique partitions: {len(np.unique(list(partition_map.values())))}\")\n",
    "\n",
    "# Define the color map\n",
    "nx.set_node_attributes(g, partition_map, name=\"partition\")\n",
    "palette = dict(zip(np.unique(list(partition_map.values())), colors))"
   ]
  },
  {
   "cell_type": "markdown",
   "id": "09ca8292",
   "metadata": {},
   "source": [
    "## Sweep over some parameters for plotting (optional)"
   ]
  },
  {
   "cell_type": "code",
   "execution_count": 17,
   "id": "1a660cbb",
   "metadata": {},
   "outputs": [],
   "source": [
    "sweep_params = False\n",
    "plot_kws = dict(\n",
    "    edge_linewidth=0.1,\n",
    "    edge_alpha=0.1,\n",
    "    subsample_edges=0.05,\n",
    "    palette=palette,\n",
    "    figsize=(12, 12),\n",
    "    sizes=(3, 10),\n",
    ")\n",
    "param_grid = {\n",
    "    \"embedding_algorithm\": [\"ase\", \"lse\"],\n",
    "    \"n_neighbors\": [16, 32, 64],\n",
    "    \"n_components\": [8, 16, 32, 64],\n",
    "}\n",
    "\n",
    "\n",
    "def dict_to_str(dictionary):\n",
    "    out = \"\"\n",
    "    for key, value in dictionary.items():\n",
    "        out += f\"-{key}={value}\"\n",
    "    return out\n",
    "\n",
    "\n",
    "if sweep_params:\n",
    "    param_list = list(ParameterGrid(param_grid))\n",
    "else:\n",
    "    param_list = []\n",
    "for embed_params in param_list:\n",
    "    currtime = time.time()\n",
    "    random_seed = main_random_state.integers(np.iinfo(np.int32).max)\n",
    "    random_state = np.random.default_rng(random_seed)\n",
    "    graphplot(\n",
    "        g,\n",
    "        hue=\"partition\",\n",
    "        verbose=1,\n",
    "        random_state=random_state,\n",
    "        **embed_params,\n",
    "        **plot_kws,\n",
    "    )\n",
    "    stashfig(f\"hemibrain-graphplot{dict_to_str(embed_params)}\")\n",
    "    print(f\"{time.time() - currtime:.3f} seconds elapsed to run layout.\")\n",
    "    print()"
   ]
  },
  {
   "cell_type": "markdown",
   "id": "59368509",
   "metadata": {},
   "source": [
    "## Plot my favorite layout\n",
    "Running this a few times just because it's a randomized algorithm."
   ]
  },
  {
   "cell_type": "code",
   "execution_count": 26,
   "id": "1575601b",
   "metadata": {
    "scrolled": true
   },
   "outputs": [
    {
     "data": {
      "text/plain": [
       "NodeView((\"A'Karonys\", 'Anomander Rake', 'Bellurdan', 'Calot', 'Dujek Onearm', 'Hairlock', 'Nightchill', 'Tattersail', 'Tayschrenn', 'Baruk', 'Boruld', 'Caladan Brood', \"Challice D'Arle\", 'Coll', 'Crokus Younghand', 'Crone', \"D'rek\", 'Dashtal', 'Derudan', 'Dessembrae', 'Doan', 'Eel', \"Estraysian D'Arle\", 'Fiddler', 'Ganoes Stabro Paran', 'Gear', 'Hood', 'Hurtle', 'Icarium', 'Jorrick Sharplance', \"K'azz D'Avore\", \"K'rul\", 'Kalam', 'Kallor', 'Kin Clip', 'Kruppe', 'Lady Orr', 'Lady of Beggars', 'Laseen', 'Logros', 'Lord of the Galayn', 'Lorn', 'Mammot', 'Mother Dark', 'Napan tutor', 'Nedurian', 'Oponn', 'Osserc', 'Quick Ben', 'Rallick Nom', 'Roald', 'Rood', 'Scurve', 'Serrat', 'Shadowthrone Ammanas', 'Silanah', 'Simtal', 'Turban Orr', 'Vorcan', 'Whiskeyjack', 'Antsy', 'Hedge', 'Mallet', 'Picker', 'Apsalar', 'Chert', 'Circle Breaker', 'Gorlas Vidikas', 'Grallin', 'Irilta', 'Meese', 'Moby', 'Murillio', 'Ocelot', 'Pannion Seer', 'Sorry', 'Trotts', 'Aragan', 'Baran', 'Blind', 'Pallick', 'Rope Cotillion', 'Shan', 'Raest', 'Sulty', 'Travale', 'Berrute', 'Cowl', 'Dassem Ultor', 'Fingers', 'Toc  the Elder ', 'Toc the Younger', 'Dancer', 'Krute of Talient', 'Lim', 'Talo Krafar', 'Stillis', 'Vildron', 'Ektalm', 'Sandenay', 'Tarlow', 'Crown', 'Eitholos Ilm', 'Galad Ketan', 'Horult', 'Kilava Onass', 'Korlat', 'Olar Ethil', 'Onak Shendok', \"Onos T'oolan\", 'Orfantal', 'Kellanved', 'Surly', 'Detoran', 'Jakatakan Élites', 'Topper', 'Felisin', 'Tavore', 'Gamet', 'Ilgrand Lender', 'Rigga', 'Pran Chole', 'Pearl'))"
      ]
     },
     "execution_count": 26,
     "metadata": {},
     "output_type": "execute_result"
    }
   ],
   "source": [
    "g.nodes"
   ]
  },
  {
   "cell_type": "code",
   "execution_count": 34,
   "id": "f9367710",
   "metadata": {},
   "outputs": [
    {
     "ename": "ValueError",
     "evalue": "could not convert string to float: 'Anomander Rake'",
     "output_type": "error",
     "traceback": [
      "\u001b[1;31m---------------------------------------------------------------------------\u001b[0m",
      "\u001b[1;31mValueError\u001b[0m                                Traceback (most recent call last)",
      "\u001b[1;32m~\\AppData\\Local\\Temp\\ipykernel_20436\\1319216518.py\u001b[0m in \u001b[0;36m<module>\u001b[1;34m\u001b[0m\n\u001b[1;32m----> 1\u001b[1;33m \u001b[0msns\u001b[0m\u001b[1;33m.\u001b[0m\u001b[0mlmplot\u001b[0m\u001b[1;33m(\u001b[0m\u001b[0mx\u001b[0m\u001b[1;33m=\u001b[0m\u001b[1;34m'source'\u001b[0m\u001b[1;33m,\u001b[0m \u001b[0my\u001b[0m\u001b[1;33m=\u001b[0m\u001b[1;34m'target'\u001b[0m\u001b[1;33m,\u001b[0m \u001b[0mdata\u001b[0m\u001b[1;33m=\u001b[0m\u001b[0medgelist_df\u001b[0m\u001b[1;33m,\u001b[0m \u001b[0mhue\u001b[0m\u001b[1;33m=\u001b[0m\u001b[1;34m'weight'\u001b[0m\u001b[1;33m,\u001b[0m \u001b[0mfit_reg\u001b[0m\u001b[1;33m=\u001b[0m\u001b[1;32mFalse\u001b[0m\u001b[1;33m)\u001b[0m\u001b[1;33m\u001b[0m\u001b[1;33m\u001b[0m\u001b[0m\n\u001b[0m",
      "\u001b[1;32mD:\\Programme\\Anaconda\\lib\\site-packages\\seaborn\\_decorators.py\u001b[0m in \u001b[0;36minner_f\u001b[1;34m(*args, **kwargs)\u001b[0m\n\u001b[0;32m     44\u001b[0m             )\n\u001b[0;32m     45\u001b[0m         \u001b[0mkwargs\u001b[0m\u001b[1;33m.\u001b[0m\u001b[0mupdate\u001b[0m\u001b[1;33m(\u001b[0m\u001b[1;33m{\u001b[0m\u001b[0mk\u001b[0m\u001b[1;33m:\u001b[0m \u001b[0marg\u001b[0m \u001b[1;32mfor\u001b[0m \u001b[0mk\u001b[0m\u001b[1;33m,\u001b[0m \u001b[0marg\u001b[0m \u001b[1;32min\u001b[0m \u001b[0mzip\u001b[0m\u001b[1;33m(\u001b[0m\u001b[0msig\u001b[0m\u001b[1;33m.\u001b[0m\u001b[0mparameters\u001b[0m\u001b[1;33m,\u001b[0m \u001b[0margs\u001b[0m\u001b[1;33m)\u001b[0m\u001b[1;33m}\u001b[0m\u001b[1;33m)\u001b[0m\u001b[1;33m\u001b[0m\u001b[1;33m\u001b[0m\u001b[0m\n\u001b[1;32m---> 46\u001b[1;33m         \u001b[1;32mreturn\u001b[0m \u001b[0mf\u001b[0m\u001b[1;33m(\u001b[0m\u001b[1;33m**\u001b[0m\u001b[0mkwargs\u001b[0m\u001b[1;33m)\u001b[0m\u001b[1;33m\u001b[0m\u001b[1;33m\u001b[0m\u001b[0m\n\u001b[0m\u001b[0;32m     47\u001b[0m     \u001b[1;32mreturn\u001b[0m \u001b[0minner_f\u001b[0m\u001b[1;33m\u001b[0m\u001b[1;33m\u001b[0m\u001b[0m\n\u001b[0;32m     48\u001b[0m \u001b[1;33m\u001b[0m\u001b[0m\n",
      "\u001b[1;32mD:\\Programme\\Anaconda\\lib\\site-packages\\seaborn\\regression.py\u001b[0m in \u001b[0;36mlmplot\u001b[1;34m(x, y, data, hue, col, row, palette, col_wrap, height, aspect, markers, sharex, sharey, hue_order, col_order, row_order, legend, legend_out, x_estimator, x_bins, x_ci, scatter, fit_reg, ci, n_boot, units, seed, order, logistic, lowess, robust, logx, x_partial, y_partial, truncate, x_jitter, y_jitter, scatter_kws, line_kws, facet_kws, size)\u001b[0m\n\u001b[0;32m    632\u001b[0m         \u001b[0max\u001b[0m\u001b[1;33m.\u001b[0m\u001b[0mautoscale_view\u001b[0m\u001b[1;33m(\u001b[0m\u001b[0mscaley\u001b[0m\u001b[1;33m=\u001b[0m\u001b[1;32mFalse\u001b[0m\u001b[1;33m)\u001b[0m\u001b[1;33m\u001b[0m\u001b[1;33m\u001b[0m\u001b[0m\n\u001b[0;32m    633\u001b[0m \u001b[1;33m\u001b[0m\u001b[0m\n\u001b[1;32m--> 634\u001b[1;33m     \u001b[0mfacets\u001b[0m\u001b[1;33m.\u001b[0m\u001b[0mmap_dataframe\u001b[0m\u001b[1;33m(\u001b[0m\u001b[0mupdate_datalim\u001b[0m\u001b[1;33m,\u001b[0m \u001b[0mx\u001b[0m\u001b[1;33m=\u001b[0m\u001b[0mx\u001b[0m\u001b[1;33m,\u001b[0m \u001b[0my\u001b[0m\u001b[1;33m=\u001b[0m\u001b[0my\u001b[0m\u001b[1;33m)\u001b[0m\u001b[1;33m\u001b[0m\u001b[1;33m\u001b[0m\u001b[0m\n\u001b[0m\u001b[0;32m    635\u001b[0m \u001b[1;33m\u001b[0m\u001b[0m\n\u001b[0;32m    636\u001b[0m     \u001b[1;31m# Draw the regression plot on each facet\u001b[0m\u001b[1;33m\u001b[0m\u001b[1;33m\u001b[0m\u001b[0m\n",
      "\u001b[1;32mD:\\Programme\\Anaconda\\lib\\site-packages\\seaborn\\axisgrid.py\u001b[0m in \u001b[0;36mmap_dataframe\u001b[1;34m(self, func, *args, **kwargs)\u001b[0m\n\u001b[0;32m    775\u001b[0m \u001b[1;33m\u001b[0m\u001b[0m\n\u001b[0;32m    776\u001b[0m             \u001b[1;31m# Draw the plot\u001b[0m\u001b[1;33m\u001b[0m\u001b[1;33m\u001b[0m\u001b[0m\n\u001b[1;32m--> 777\u001b[1;33m             \u001b[0mself\u001b[0m\u001b[1;33m.\u001b[0m\u001b[0m_facet_plot\u001b[0m\u001b[1;33m(\u001b[0m\u001b[0mfunc\u001b[0m\u001b[1;33m,\u001b[0m \u001b[0max\u001b[0m\u001b[1;33m,\u001b[0m \u001b[0margs\u001b[0m\u001b[1;33m,\u001b[0m \u001b[0mkwargs\u001b[0m\u001b[1;33m)\u001b[0m\u001b[1;33m\u001b[0m\u001b[1;33m\u001b[0m\u001b[0m\n\u001b[0m\u001b[0;32m    778\u001b[0m \u001b[1;33m\u001b[0m\u001b[0m\n\u001b[0;32m    779\u001b[0m         \u001b[1;31m# For axis labels, prefer to use positional args for backcompat\u001b[0m\u001b[1;33m\u001b[0m\u001b[1;33m\u001b[0m\u001b[0m\n",
      "\u001b[1;32mD:\\Programme\\Anaconda\\lib\\site-packages\\seaborn\\axisgrid.py\u001b[0m in \u001b[0;36m_facet_plot\u001b[1;34m(self, func, ax, plot_args, plot_kwargs)\u001b[0m\n\u001b[0;32m    804\u001b[0m             \u001b[0mplot_args\u001b[0m \u001b[1;33m=\u001b[0m \u001b[1;33m[\u001b[0m\u001b[1;33m]\u001b[0m\u001b[1;33m\u001b[0m\u001b[1;33m\u001b[0m\u001b[0m\n\u001b[0;32m    805\u001b[0m             \u001b[0mplot_kwargs\u001b[0m\u001b[1;33m[\u001b[0m\u001b[1;34m\"ax\"\u001b[0m\u001b[1;33m]\u001b[0m \u001b[1;33m=\u001b[0m \u001b[0max\u001b[0m\u001b[1;33m\u001b[0m\u001b[1;33m\u001b[0m\u001b[0m\n\u001b[1;32m--> 806\u001b[1;33m         \u001b[0mfunc\u001b[0m\u001b[1;33m(\u001b[0m\u001b[1;33m*\u001b[0m\u001b[0mplot_args\u001b[0m\u001b[1;33m,\u001b[0m \u001b[1;33m**\u001b[0m\u001b[0mplot_kwargs\u001b[0m\u001b[1;33m)\u001b[0m\u001b[1;33m\u001b[0m\u001b[1;33m\u001b[0m\u001b[0m\n\u001b[0m\u001b[0;32m    807\u001b[0m \u001b[1;33m\u001b[0m\u001b[0m\n\u001b[0;32m    808\u001b[0m         \u001b[1;31m# Sort out the supporting information\u001b[0m\u001b[1;33m\u001b[0m\u001b[1;33m\u001b[0m\u001b[0m\n",
      "\u001b[1;32mD:\\Programme\\Anaconda\\lib\\site-packages\\seaborn\\regression.py\u001b[0m in \u001b[0;36mupdate_datalim\u001b[1;34m(data, x, y, ax, **kws)\u001b[0m\n\u001b[0;32m    628\u001b[0m \u001b[1;33m\u001b[0m\u001b[0m\n\u001b[0;32m    629\u001b[0m     \u001b[1;32mdef\u001b[0m \u001b[0mupdate_datalim\u001b[0m\u001b[1;33m(\u001b[0m\u001b[0mdata\u001b[0m\u001b[1;33m,\u001b[0m \u001b[0mx\u001b[0m\u001b[1;33m,\u001b[0m \u001b[0my\u001b[0m\u001b[1;33m,\u001b[0m \u001b[0max\u001b[0m\u001b[1;33m,\u001b[0m \u001b[1;33m**\u001b[0m\u001b[0mkws\u001b[0m\u001b[1;33m)\u001b[0m\u001b[1;33m:\u001b[0m\u001b[1;33m\u001b[0m\u001b[1;33m\u001b[0m\u001b[0m\n\u001b[1;32m--> 630\u001b[1;33m         \u001b[0mxys\u001b[0m \u001b[1;33m=\u001b[0m \u001b[0mnp\u001b[0m\u001b[1;33m.\u001b[0m\u001b[0masarray\u001b[0m\u001b[1;33m(\u001b[0m\u001b[0mdata\u001b[0m\u001b[1;33m[\u001b[0m\u001b[1;33m[\u001b[0m\u001b[0mx\u001b[0m\u001b[1;33m,\u001b[0m \u001b[0my\u001b[0m\u001b[1;33m]\u001b[0m\u001b[1;33m]\u001b[0m\u001b[1;33m)\u001b[0m\u001b[1;33m.\u001b[0m\u001b[0mastype\u001b[0m\u001b[1;33m(\u001b[0m\u001b[0mfloat\u001b[0m\u001b[1;33m)\u001b[0m\u001b[1;33m\u001b[0m\u001b[1;33m\u001b[0m\u001b[0m\n\u001b[0m\u001b[0;32m    631\u001b[0m         \u001b[0max\u001b[0m\u001b[1;33m.\u001b[0m\u001b[0mupdate_datalim\u001b[0m\u001b[1;33m(\u001b[0m\u001b[0mxys\u001b[0m\u001b[1;33m,\u001b[0m \u001b[0mupdatey\u001b[0m\u001b[1;33m=\u001b[0m\u001b[1;32mFalse\u001b[0m\u001b[1;33m)\u001b[0m\u001b[1;33m\u001b[0m\u001b[1;33m\u001b[0m\u001b[0m\n\u001b[0;32m    632\u001b[0m         \u001b[0max\u001b[0m\u001b[1;33m.\u001b[0m\u001b[0mautoscale_view\u001b[0m\u001b[1;33m(\u001b[0m\u001b[0mscaley\u001b[0m\u001b[1;33m=\u001b[0m\u001b[1;32mFalse\u001b[0m\u001b[1;33m)\u001b[0m\u001b[1;33m\u001b[0m\u001b[1;33m\u001b[0m\u001b[0m\n",
      "\u001b[1;31mValueError\u001b[0m: could not convert string to float: 'Anomander Rake'"
     ]
    },
    {
     "data": {
      "image/png": "[encoded data removed]",
      "text/plain": [
       "<Figure size 500x500 with 1 Axes>"
      ]
     },
     "metadata": {},
     "output_type": "display_data"
    }
   ],
   "source": [
    "sns.lmplot(x='source', y='target', data=edgelist_df, hue='weight', fit_reg=False)"
   ]
  },
  {
   "cell_type": "raw",
   "id": "75b08889",
   "metadata": {},
   "source": [
    "embed_params = dict(n_components=64, n_neighbors=64, embedding_algorithm=\"lse\")\n",
    "for i in range(3):\n",
    "    random_seed = main_random_state.integers(np.iinfo(np.int32).max)\n",
    "    random_state = np.random.default_rng(random_seed)\n",
    "    graphplot(\n",
    "        g,\n",
    "        hue=\"partition\",\n",
    "        verbose=1,\n",
    "        random_state=random_state,\n",
    "        **embed_params,\n",
    "        **plot_kws,\n",
    "    )\n",
    "    stashfig(f\"hemibrain-graphplot{dict_to_str(embed_params)}-seed={random_seed}\")"
   ]
  },
  {
   "cell_type": "markdown",
   "id": "c3fbfddb",
   "metadata": {},
   "source": [
    "## End"
   ]
  },
  {
   "cell_type": "code",
   "execution_count": null,
   "id": "d32a8c5c",
   "metadata": {},
   "outputs": [],
   "source": [
    "elapsed = time.time() - t0\n",
    "delta = datetime.timedelta(seconds=elapsed)\n",
    "print(\"----\")\n",
    "print(f\"Script took {delta}\")\n",
    "print(f\"Completed at {datetime.datetime.now()}\")\n",
    "print(\"----\")"
   ]
  },
  {
   "cell_type": "code",
   "execution_count": null,
   "id": "51a055fd",
   "metadata": {},
   "outputs": [],
   "source": []
  }
 ],
 "metadata": {
  "kernelspec": {
   "display_name": "Python 3 (ipykernel)",
   "language": "python",
   "name": "python3"
  },
  "language_info": {
   "codemirror_mode": {
    "name": "ipython",
    "version": 3
   },
   "file_extension": ".py",
   "mimetype": "text/x-python",
   "name": "python",
   "nbconvert_exporter": "python",
   "pygments_lexer": "ipython3",
   "version": "3.9.13"
  }
 },
 "nbformat": 4,
 "nbformat_minor": 5
}
