{
 "cells": [
  {
   "cell_type": "markdown",
   "id": "5bd1a8f7",
   "metadata": {},
   "source": [
    "## Preparation"
   ]
  },
  {
   "cell_type": "code",
   "execution_count": 1,
   "id": "a1aeb71b",
   "metadata": {},
   "outputs": [],
   "source": [
    "#!pip install spacy\n",
    "#!pip install networkx\n",
    "#!python -m spacy download en_core_web_sm # see https://spacy.io/usage/models\n",
    "#!python -m spacy download en_core_web_trf\n",
    "#!pip install pyvis\n",
    "#!pip install python-louvain # community?"
   ]
  },
  {
   "cell_type": "code",
   "execution_count": 2,
   "id": "40faf8f3-28bb-42e8-96fe-185c9dd0ecda",
   "metadata": {},
   "outputs": [],
   "source": [
    "import spacy\n",
    "import pandas as pd\n",
    "import os\n",
    "import codecs\n",
    "import re \n",
    "import numpy as np\n",
    "#from spacy import displacy\n",
    "import networkx as nx\n",
    "from pyvis.network import Network\n",
    "import community.community_louvain as cl\n",
    "import math\n",
    "\n",
    "#import matplotlib.pyplot as plt"
   ]
  },
  {
   "cell_type": "code",
   "execution_count": 3,
   "id": "e8f27aba-7fb0-40a7-b262-857d3d470ad3",
   "metadata": {},
   "outputs": [],
   "source": [
    "# Load spacy English languague model\n",
    "NER = spacy.load(\"en_core_web_sm\")\n",
    "#NER2 = spacy.load(\"en_core_web_trf\")\n",
    "\n",
    "#pd.set_option('display.max_rows', None)"
   ]
  },
  {
   "cell_type": "code",
   "execution_count": 6,
   "id": "d1461bb0-a318-42af-8e2f-64f6b418381e",
   "metadata": {},
   "outputs": [],
   "source": [
    "# flatten a list of lists\n",
    "def flatten(l):\n",
    "    return [item for sublist in l for item in sublist]\n",
    "\n",
    "# Function to filter out non-character entities\n",
    "def filter_entity(ent_list, character_df):\n",
    "    # check if entity is any part of a character name\n",
    "    return flatten([character_df.character[\n",
    "                np.any(\n",
    "                    [np.array(character_df.character==ent), \n",
    "                     np.array(character_df.character_firstname==ent), \n",
    "                     np.array(character_df.character_secondname==ent)], \n",
    "                    axis=0).tolist()\n",
    "            ] for ent in ent_list])\n",
    "            #if ent in list(character_df.character)\n",
    "            #or ent in list(character_df.character_firstname)\n",
    "            #or ent in list(character_df.character_secondname)]"
   ]
  },
  {
   "cell_type": "markdown",
   "id": "0d8ba555-2141-4372-99ef-00185775c031",
   "metadata": {},
   "source": [
    "## Load character names"
   ]
  },
  {
   "cell_type": "code",
   "execution_count": 7,
   "id": "c7e8d75c-a585-4190-b5aa-411093ca32d2",
   "metadata": {},
   "outputs": [],
   "source": [
    "# Read characters\n",
    "character_df = pd.read_csv(\"malazan_characters.csv\")\n",
    "\n",
    "# take only characters from the current book\n",
    "character_df = character_df.loc[character_df[\"book\"] == \"Gardens of the Moon\"]"
   ]
  },
  {
   "cell_type": "code",
   "execution_count": 8,
   "id": "364cb027",
   "metadata": {
    "jupyter": {
     "outputs_hidden": true
    },
    "tags": []
   },
   "outputs": [],
   "source": [
    "# remove titles only\n",
    "title_list = [\n",
    "    'Agent in Genabaris',\n",
    "    'Assassin High House Shadow',\n",
    "    'Black Moranth patrol leader',\n",
    "    'Captain High House Light',\n",
    "    'Captain (Itko Kan)',\n",
    "    \"Dassem Ultor's daughter\",\n",
    "    'Herald of High House Death',\n",
    "    'Knight High House Dark',\n",
    "    'Mason High House Death',\n",
    "    'Soldier High House Death',\n",
    "    'Throne (Unaligned)',\n",
    "    'Virgin High House Death'\n",
    "]\n",
    "for title in title_list:\n",
    "    character_df = character_df.drop(character_df[character_df.character==title].index)"
   ]
  },
  {
   "cell_type": "code",
   "execution_count": 9,
   "id": "e18b4723-8341-435c-a31d-6afcac487afa",
   "metadata": {
    "jupyter": {
     "outputs_hidden": true
    },
    "tags": []
   },
   "outputs": [],
   "source": [
    "# Remove brackets and stuff of names\n",
    "character_df['character'] = character_df['character'].apply(lambda x: re.sub(\"\\/|\\(|\\)\", ' ', x)) #[\\(].*?[\\)]|\n",
    "character_df['character'] = character_df['character'].apply(lambda x: re.sub(\"The |Corporal |Sergeant |Sergeant| Campaign|Empress |Emperor |Captain|Captain |Prince |Hound | Light Touch\", \"\", x))\n",
    "\n",
    "# split the names into firstname and lastname so we can find every mention of them\n",
    "character_df['character_firstname'] = character_df['character'].apply(lambda x: x.split(' ', 3)[0])\n",
    "character_df['character_secondname'] = character_df['character'].apply(lambda x: x.split(' ', 3)[-1])\n",
    "#character_df['character_thirdname'] = character_df['character'].apply(lambda x: x.split(' ', 3)[2])"
   ]
  },
  {
   "cell_type": "code",
   "execution_count": 10,
   "id": "da106f00",
   "metadata": {},
   "outputs": [
    {
     "data": {
      "text/html": [
       "<div>\n",
       "<style scoped>\n",
       "    .dataframe tbody tr th:only-of-type {\n",
       "        vertical-align: middle;\n",
       "    }\n",
       "\n",
       "    .dataframe tbody tr th {\n",
       "        vertical-align: top;\n",
       "    }\n",
       "\n",
       "    .dataframe thead th {\n",
       "        text-align: right;\n",
       "    }\n",
       "</style>\n",
       "<table border=\"1\" class=\"dataframe\">\n",
       "  <thead>\n",
       "    <tr style=\"text-align: right;\">\n",
       "      <th></th>\n",
       "      <th>book</th>\n",
       "      <th>character</th>\n",
       "      <th>character_firstname</th>\n",
       "      <th>character_secondname</th>\n",
       "    </tr>\n",
       "  </thead>\n",
       "  <tbody>\n",
       "    <tr>\n",
       "      <th>0</th>\n",
       "      <td>Gardens of the Moon</td>\n",
       "      <td>A'Karonys</td>\n",
       "      <td>A'Karonys</td>\n",
       "      <td>A'Karonys</td>\n",
       "    </tr>\n",
       "    <tr>\n",
       "      <th>2</th>\n",
       "      <td>Gardens of the Moon</td>\n",
       "      <td>Anomander Rake</td>\n",
       "      <td>Anomander</td>\n",
       "      <td>Rake</td>\n",
       "    </tr>\n",
       "    <tr>\n",
       "      <th>3</th>\n",
       "      <td>Gardens of the Moon</td>\n",
       "      <td>Antsy</td>\n",
       "      <td>Antsy</td>\n",
       "      <td>Antsy</td>\n",
       "    </tr>\n",
       "    <tr>\n",
       "      <th>4</th>\n",
       "      <td>Gardens of the Moon</td>\n",
       "      <td>Apsalar</td>\n",
       "      <td>Apsalar</td>\n",
       "      <td>Apsalar</td>\n",
       "    </tr>\n",
       "    <tr>\n",
       "      <th>5</th>\n",
       "      <td>Gardens of the Moon</td>\n",
       "      <td>Aragan</td>\n",
       "      <td>Aragan</td>\n",
       "      <td>Aragan</td>\n",
       "    </tr>\n",
       "    <tr>\n",
       "      <th>...</th>\n",
       "      <td>...</td>\n",
       "      <td>...</td>\n",
       "      <td>...</td>\n",
       "      <td>...</td>\n",
       "    </tr>\n",
       "    <tr>\n",
       "      <th>153</th>\n",
       "      <td>Gardens of the Moon</td>\n",
       "      <td>Trotts</td>\n",
       "      <td>Trotts</td>\n",
       "      <td>Trotts</td>\n",
       "    </tr>\n",
       "    <tr>\n",
       "      <th>154</th>\n",
       "      <td>Gardens of the Moon</td>\n",
       "      <td>Turban Orr</td>\n",
       "      <td>Turban</td>\n",
       "      <td>Orr</td>\n",
       "    </tr>\n",
       "    <tr>\n",
       "      <th>155</th>\n",
       "      <td>Gardens of the Moon</td>\n",
       "      <td>Vildron</td>\n",
       "      <td>Vildron</td>\n",
       "      <td>Vildron</td>\n",
       "    </tr>\n",
       "    <tr>\n",
       "      <th>157</th>\n",
       "      <td>Gardens of the Moon</td>\n",
       "      <td>Vorcan</td>\n",
       "      <td>Vorcan</td>\n",
       "      <td>Vorcan</td>\n",
       "    </tr>\n",
       "    <tr>\n",
       "      <th>158</th>\n",
       "      <td>Gardens of the Moon</td>\n",
       "      <td>Whiskeyjack</td>\n",
       "      <td>Whiskeyjack</td>\n",
       "      <td>Whiskeyjack</td>\n",
       "    </tr>\n",
       "  </tbody>\n",
       "</table>\n",
       "<p>147 rows × 4 columns</p>\n",
       "</div>"
      ],
      "text/plain": [
       "                    book       character character_firstname  \\\n",
       "0    Gardens of the Moon       A'Karonys           A'Karonys   \n",
       "2    Gardens of the Moon  Anomander Rake           Anomander   \n",
       "3    Gardens of the Moon           Antsy               Antsy   \n",
       "4    Gardens of the Moon         Apsalar             Apsalar   \n",
       "5    Gardens of the Moon          Aragan              Aragan   \n",
       "..                   ...             ...                 ...   \n",
       "153  Gardens of the Moon          Trotts              Trotts   \n",
       "154  Gardens of the Moon      Turban Orr              Turban   \n",
       "155  Gardens of the Moon         Vildron             Vildron   \n",
       "157  Gardens of the Moon          Vorcan              Vorcan   \n",
       "158  Gardens of the Moon     Whiskeyjack         Whiskeyjack   \n",
       "\n",
       "    character_secondname  \n",
       "0              A'Karonys  \n",
       "2                   Rake  \n",
       "3                  Antsy  \n",
       "4                Apsalar  \n",
       "5                 Aragan  \n",
       "..                   ...  \n",
       "153               Trotts  \n",
       "154                  Orr  \n",
       "155              Vildron  \n",
       "157               Vorcan  \n",
       "158          Whiskeyjack  \n",
       "\n",
       "[147 rows x 4 columns]"
      ]
     },
     "execution_count": 10,
     "metadata": {},
     "output_type": "execute_result"
    }
   ],
   "source": [
    "character_df"
   ]
  },
  {
   "cell_type": "raw",
   "id": "470d1219",
   "metadata": {},
   "source": [
    "same persons\n",
    "kruppe eel\n",
    "laseen surly\n",
    "shadowthrone ammanas Kellanved\n",
    "rope cotillion dancer"
   ]
  },
  {
   "cell_type": "markdown",
   "id": "0e33c585-fcc7-4011-a8db-12ac2bb33930",
   "metadata": {},
   "source": [
    "## Load books (first one here)"
   ]
  },
  {
   "cell_type": "code",
   "execution_count": null,
   "id": "bd51eeb5",
   "metadata": {
    "jupyter": {
     "outputs_hidden": true
    },
    "tags": []
   },
   "outputs": [],
   "source": [
    "# Get all book files in the data directory\n",
    "all_books = [b for b in os.scandir('data') if b.name.endswith(\".txt\")]\n",
    "print(all_books)\n",
    "\n",
    "# choose one for the analysis and get the text\n",
    "book = all_books[0]\n",
    "f = codecs.open(book, \"r\", \"utf-8\")\n",
    "book_text = f.read()"
   ]
  },
  {
   "cell_type": "markdown",
   "id": "a4df7b25",
   "metadata": {},
   "source": [
    "## Run spacy model (in a loop)"
   ]
  },
  {
   "cell_type": "code",
   "execution_count": 22,
   "id": "2c6e4707",
   "metadata": {},
   "outputs": [],
   "source": [
    "# variables for applying the model\n",
    "epoch_size = 250000\n",
    "epochs = round(len(book_text)/epoch_size+0.5)"
   ]
  },
  {
   "cell_type": "code",
   "execution_count": 23,
   "id": "5ddb8f0d",
   "metadata": {
    "scrolled": true
   },
   "outputs": [
    {
     "name": "stdout",
     "output_type": "stream",
     "text": [
      "epoch 1 of 5 running\n",
      "epoch 2 of 5 running\n",
      "epoch 3 of 5 running\n",
      "epoch 4 of 5 running\n",
      "epoch 5 of 5 running\n"
     ]
    }
   ],
   "source": [
    "filtered_df = pd.DataFrame(data={'sentence': ('test'), 'entities': ['Kruppe'], 'character_entities': ['Kruppe']})\n",
    "\n",
    "# split the book into epochs so the NER() function can handle the size\n",
    "for e in range(epochs):\n",
    "    # keep us updated on the current epoch\n",
    "    print(\"epoch \" + str(e+1) + \" of \" + str(epochs) + \" running\")\n",
    "    \n",
    "    # run the language model on the subpart\n",
    "    book_doc = NER(book_text[e*epoch_size:(e+1)*epoch_size])\n",
    "    \n",
    "    # get all the entities per sentence\n",
    "    sent_entity_df = []\n",
    "    for sent in book_doc.sents:\n",
    "        entity_list = [ent.text for ent in sent.ents]\n",
    "        sent_entity_df.append({\"sentence\": sent, \"entities\": entity_list})    \n",
    "    \n",
    "    # make it a dataframe\n",
    "    sent_entity_df = pd.DataFrame(sent_entity_df)\n",
    "    # remove all rows/sentences without any entities\n",
    "    sent_entity_df = sent_entity_df[sent_entity_df['entities'].map(len)>0] #sent_entity_df.drop(sent_entity_df[sent_entity_df['entities'].map(len)==0].index, inplace=True)\n",
    "    # filter out those entities that are characters\n",
    "    sent_entity_df['character_entities'] = sent_entity_df['entities'].apply(lambda x: filter_entity(x, character_df))\n",
    "    # now remove all rows/sentences without any characters\n",
    "    sent_entity_df = sent_entity_df[sent_entity_df['character_entities'].map(len)>0]\n",
    "\n",
    "    # save those entities into a global dataframe\n",
    "    filtered_df = pd.concat([filtered_df, sent_entity_df])"
   ]
  },
  {
   "cell_type": "code",
   "execution_count": 24,
   "id": "8e2b9c79",
   "metadata": {
    "scrolled": true
   },
   "outputs": [
    {
     "data": {
      "text/html": [
       "<div>\n",
       "<style scoped>\n",
       "    .dataframe tbody tr th:only-of-type {\n",
       "        vertical-align: middle;\n",
       "    }\n",
       "\n",
       "    .dataframe tbody tr th {\n",
       "        vertical-align: top;\n",
       "    }\n",
       "\n",
       "    .dataframe thead th {\n",
       "        text-align: right;\n",
       "    }\n",
       "</style>\n",
       "<table border=\"1\" class=\"dataframe\">\n",
       "  <thead>\n",
       "    <tr style=\"text-align: right;\">\n",
       "      <th></th>\n",
       "      <th>sentence_number</th>\n",
       "      <th>sentence</th>\n",
       "      <th>entities</th>\n",
       "      <th>character_entities</th>\n",
       "    </tr>\n",
       "  </thead>\n",
       "  <tbody>\n",
       "    <tr>\n",
       "      <th>0</th>\n",
       "      <td>46</td>\n",
       "      <td>(Dassem, Ultor, .)</td>\n",
       "      <td>[Dassem]</td>\n",
       "      <td>[Dassem Ultor]</td>\n",
       "    </tr>\n",
       "    <tr>\n",
       "      <th>1</th>\n",
       "      <td>50</td>\n",
       "      <td>(Is, Dassem, dead, ?, ', \\n\\n)</td>\n",
       "      <td>[Dassem]</td>\n",
       "      <td>[Dassem Ultor]</td>\n",
       "    </tr>\n",
       "    <tr>\n",
       "      <th>2</th>\n",
       "      <td>103</td>\n",
       "      <td>(Laseen, ., ', \\n\\n, ', Laseen, ?, ', \\n\\n, ',...</td>\n",
       "      <td>[Laseen, Laseen, Napan]</td>\n",
       "      <td>[Laseen, Laseen, Napan tutor]</td>\n",
       "    </tr>\n",
       "    <tr>\n",
       "      <th>3</th>\n",
       "      <td>109</td>\n",
       "      <td>(', My, tutor, 's, Napan, ,, ', Ganoes, explai...</td>\n",
       "      <td>[Napan]</td>\n",
       "      <td>[Napan tutor]</td>\n",
       "    </tr>\n",
       "    <tr>\n",
       "      <th>4</th>\n",
       "      <td>118</td>\n",
       "      <td>(Her, dusky, blue, skin, marked, her, as, Napa...</td>\n",
       "      <td>[Napan, grey]</td>\n",
       "      <td>[Napan tutor]</td>\n",
       "    </tr>\n",
       "    <tr>\n",
       "      <th>...</th>\n",
       "      <td>...</td>\n",
       "      <td>...</td>\n",
       "      <td>...</td>\n",
       "      <td>...</td>\n",
       "    </tr>\n",
       "    <tr>\n",
       "      <th>95</th>\n",
       "      <td>898</td>\n",
       "      <td>(Paran, reached, out, with, his, sword, and, s...</td>\n",
       "      <td>[Paran]</td>\n",
       "      <td>[Ganoes Stabro Paran]</td>\n",
       "    </tr>\n",
       "    <tr>\n",
       "      <th>96</th>\n",
       "      <td>900</td>\n",
       "      <td>(Movement, rippled, in, the, gloom, within, ,,...</td>\n",
       "      <td>[Paran]</td>\n",
       "      <td>[Ganoes Stabro Paran]</td>\n",
       "    </tr>\n",
       "    <tr>\n",
       "      <th>97</th>\n",
       "      <td>910</td>\n",
       "      <td>(Paran, looked, down, at, one, of, the, soldie...</td>\n",
       "      <td>[Paran, one]</td>\n",
       "      <td>[Ganoes Stabro Paran]</td>\n",
       "    </tr>\n",
       "    <tr>\n",
       "      <th>98</th>\n",
       "      <td>919</td>\n",
       "      <td>(Sheathing, his, sword, ,, Paran, entered, the...</td>\n",
       "      <td>[Paran]</td>\n",
       "      <td>[Ganoes Stabro Paran]</td>\n",
       "    </tr>\n",
       "    <tr>\n",
       "      <th>99</th>\n",
       "      <td>921</td>\n",
       "      <td>(Paran, swept, damp, feathers, from, the, desk...</td>\n",
       "      <td>[Paran]</td>\n",
       "      <td>[Ganoes Stabro Paran]</td>\n",
       "    </tr>\n",
       "  </tbody>\n",
       "</table>\n",
       "<p>100 rows × 4 columns</p>\n",
       "</div>"
      ],
      "text/plain": [
       "    sentence_number                                           sentence  \\\n",
       "0                46                                 (Dassem, Ultor, .)   \n",
       "1                50                     (Is, Dassem, dead, ?, ', \\n\\n)   \n",
       "2               103  (Laseen, ., ', \\n\\n, ', Laseen, ?, ', \\n\\n, ',...   \n",
       "3               109  (', My, tutor, 's, Napan, ,, ', Ganoes, explai...   \n",
       "4               118  (Her, dusky, blue, skin, marked, her, as, Napa...   \n",
       "..              ...                                                ...   \n",
       "95              898  (Paran, reached, out, with, his, sword, and, s...   \n",
       "96              900  (Movement, rippled, in, the, gloom, within, ,,...   \n",
       "97              910  (Paran, looked, down, at, one, of, the, soldie...   \n",
       "98              919  (Sheathing, his, sword, ,, Paran, entered, the...   \n",
       "99              921  (Paran, swept, damp, feathers, from, the, desk...   \n",
       "\n",
       "                   entities             character_entities  \n",
       "0                  [Dassem]                 [Dassem Ultor]  \n",
       "1                  [Dassem]                 [Dassem Ultor]  \n",
       "2   [Laseen, Laseen, Napan]  [Laseen, Laseen, Napan tutor]  \n",
       "3                   [Napan]                  [Napan tutor]  \n",
       "4             [Napan, grey]                  [Napan tutor]  \n",
       "..                      ...                            ...  \n",
       "95                  [Paran]          [Ganoes Stabro Paran]  \n",
       "96                  [Paran]          [Ganoes Stabro Paran]  \n",
       "97             [Paran, one]          [Ganoes Stabro Paran]  \n",
       "98                  [Paran]          [Ganoes Stabro Paran]  \n",
       "99                  [Paran]          [Ganoes Stabro Paran]  \n",
       "\n",
       "[100 rows x 4 columns]"
      ]
     },
     "execution_count": 24,
     "metadata": {},
     "output_type": "execute_result"
    }
   ],
   "source": [
    "df = filtered_df[1:-1]\n",
    "# this might destroy the windowing function?\n",
    "df = df.reset_index()\n",
    "df.columns = df.columns.str.replace('index', 'sentence_number')\n",
    "df.head(100)"
   ]
  },
  {
   "cell_type": "code",
   "execution_count": 25,
   "id": "b0f1dcb0",
   "metadata": {},
   "outputs": [
    {
     "data": {
      "text/plain": [
       "Onearm's Host.'\n",
       "\n",
       "Aragan blinked."
      ]
     },
     "execution_count": 25,
     "metadata": {},
     "output_type": "execute_result"
    }
   ],
   "source": [
    "df.iloc[86].sentence"
   ]
  },
  {
   "cell_type": "code",
   "execution_count": 26,
   "id": "331c1104",
   "metadata": {},
   "outputs": [
    {
     "data": {
      "text/html": [
       "<div>\n",
       "<style scoped>\n",
       "    .dataframe tbody tr th:only-of-type {\n",
       "        vertical-align: middle;\n",
       "    }\n",
       "\n",
       "    .dataframe tbody tr th {\n",
       "        vertical-align: top;\n",
       "    }\n",
       "\n",
       "    .dataframe thead th {\n",
       "        text-align: right;\n",
       "    }\n",
       "</style>\n",
       "<table border=\"1\" class=\"dataframe\">\n",
       "  <thead>\n",
       "    <tr style=\"text-align: right;\">\n",
       "      <th></th>\n",
       "      <th>sentence_number</th>\n",
       "      <th>sentence</th>\n",
       "      <th>entities</th>\n",
       "      <th>character_entities</th>\n",
       "    </tr>\n",
       "  </thead>\n",
       "  <tbody>\n",
       "    <tr>\n",
       "      <th>0</th>\n",
       "      <td>46</td>\n",
       "      <td>(Dassem, Ultor, .)</td>\n",
       "      <td>[Dassem]</td>\n",
       "      <td>[Dassem Ultor]</td>\n",
       "    </tr>\n",
       "    <tr>\n",
       "      <th>1</th>\n",
       "      <td>50</td>\n",
       "      <td>(Is, Dassem, dead, ?, ', \\n\\n)</td>\n",
       "      <td>[Dassem]</td>\n",
       "      <td>[Dassem Ultor]</td>\n",
       "    </tr>\n",
       "    <tr>\n",
       "      <th>2</th>\n",
       "      <td>103</td>\n",
       "      <td>(Laseen, ., ', \\n\\n, ', Laseen, ?, ', \\n\\n, ',...</td>\n",
       "      <td>[Laseen, Laseen, Napan]</td>\n",
       "      <td>[Laseen, Laseen, Napan tutor]</td>\n",
       "    </tr>\n",
       "    <tr>\n",
       "      <th>3</th>\n",
       "      <td>109</td>\n",
       "      <td>(', My, tutor, 's, Napan, ,, ', Ganoes, explai...</td>\n",
       "      <td>[Napan]</td>\n",
       "      <td>[Napan tutor]</td>\n",
       "    </tr>\n",
       "  </tbody>\n",
       "</table>\n",
       "</div>"
      ],
      "text/plain": [
       "   sentence_number                                           sentence  \\\n",
       "0               46                                 (Dassem, Ultor, .)   \n",
       "1               50                     (Is, Dassem, dead, ?, ', \\n\\n)   \n",
       "2              103  (Laseen, ., ', \\n\\n, ', Laseen, ?, ', \\n\\n, ',...   \n",
       "3              109  (', My, tutor, 's, Napan, ,, ', Ganoes, explai...   \n",
       "\n",
       "                  entities             character_entities  \n",
       "0                 [Dassem]                 [Dassem Ultor]  \n",
       "1                 [Dassem]                 [Dassem Ultor]  \n",
       "2  [Laseen, Laseen, Napan]  [Laseen, Laseen, Napan tutor]  \n",
       "3                  [Napan]                  [Napan tutor]  "
      ]
     },
     "execution_count": 26,
     "metadata": {},
     "output_type": "execute_result"
    }
   ],
   "source": [
    "#df.loc[df.index[0]:df.index[5]]\n",
    "df[df.index[0]:df.index[4]]"
   ]
  },
  {
   "cell_type": "code",
   "execution_count": 27,
   "id": "8664cec9",
   "metadata": {},
   "outputs": [],
   "source": [
    "# save the single book_docs as well\n",
    "#book_doc"
   ]
  },
  {
   "cell_type": "code",
   "execution_count": 28,
   "id": "b6852f03",
   "metadata": {
    "jupyter": {
     "outputs_hidden": true
    },
    "tags": []
   },
   "outputs": [],
   "source": [
    "# Visualize identified entities\n",
    "#displacy.render(book_doc[0:10], style=\"ent\", jupyter=True)"
   ]
  },
  {
   "cell_type": "markdown",
   "id": "c725b4e9",
   "metadata": {},
   "source": [
    "## Building relationships"
   ]
  },
  {
   "cell_type": "code",
   "execution_count": 29,
   "id": "7edfb691",
   "metadata": {},
   "outputs": [],
   "source": [
    "# variables for building relationship\n",
    "# TODO: apply the window size not for the reindexed version but for the actual sentence indexing\n",
    "# we want characters in a relationship that accure in a paragraph\n",
    "# -> somehow make the window realize the paragraphs, not only the sentences?!\n",
    "# this needs to be done in the text splitting (epochs...)\n",
    "# TODO: so have a look at the book text file and make a list of paragraphs(!!!) instead of sentences\n",
    "# TODO: remove the poems and small intros before a chapter/book\n",
    "window_size = 5\n",
    "relationships = []"
   ]
  },
  {
   "cell_type": "code",
   "execution_count": 30,
   "id": "330565d6",
   "metadata": {},
   "outputs": [],
   "source": [
    "# get relationships from the entities with a fixed window size\n",
    "for i in range(df.index[-1]):\n",
    "    # build the character list that appear in close proximity\n",
    "    end_i = min(i+window_size, df.index[-1])\n",
    "    char_list = sum((df.loc[i: end_i].character_entities), [])\n",
    "    \n",
    "    # Remove duplicated characters that are next to each other\n",
    "    char_list.sort()\n",
    "    char_unique = [char_list[i] for i in range(len(char_list)) \n",
    "                   if (i==0) or char_list[i] != char_list[i-1]]\n",
    "\n",
    "    # list source-target relationships\n",
    "    if len(char_unique) > 1:\n",
    "        for idx, a in enumerate(char_unique[:-1]):\n",
    "            b = char_unique[idx + 1]\n",
    "            relationships.append({\"source\": a, \"target\": b})"
   ]
  },
  {
   "cell_type": "code",
   "execution_count": 31,
   "id": "2e0330c0",
   "metadata": {},
   "outputs": [],
   "source": [
    "# build relationship dataframe\n",
    "relationship_df = pd.DataFrame(relationships)\n",
    "relationship_df = pd.DataFrame(np.sort(relationship_df.values, axis = 1), columns = relationship_df.columns)\n",
    "relationship_df[\"value\"] = 1\n",
    "relationship_df = relationship_df.groupby([\"source\",\"target\"], sort=False, as_index=False).sum()"
   ]
  },
  {
   "cell_type": "code",
   "execution_count": 32,
   "id": "cbbf9309",
   "metadata": {},
   "outputs": [
    {
     "name": "stdout",
     "output_type": "stream",
     "text": [
      "2493\n"
     ]
    },
    {
     "data": {
      "text/html": [
       "<div>\n",
       "<style scoped>\n",
       "    .dataframe tbody tr th:only-of-type {\n",
       "        vertical-align: middle;\n",
       "    }\n",
       "\n",
       "    .dataframe tbody tr th {\n",
       "        vertical-align: top;\n",
       "    }\n",
       "\n",
       "    .dataframe thead th {\n",
       "        text-align: right;\n",
       "    }\n",
       "</style>\n",
       "<table border=\"1\" class=\"dataframe\">\n",
       "  <thead>\n",
       "    <tr style=\"text-align: right;\">\n",
       "      <th></th>\n",
       "      <th>source</th>\n",
       "      <th>target</th>\n",
       "      <th>value</th>\n",
       "    </tr>\n",
       "  </thead>\n",
       "  <tbody>\n",
       "    <tr>\n",
       "      <th>0</th>\n",
       "      <td>Dassem Ultor</td>\n",
       "      <td>Laseen</td>\n",
       "      <td>2</td>\n",
       "    </tr>\n",
       "    <tr>\n",
       "      <th>1</th>\n",
       "      <td>Laseen</td>\n",
       "      <td>Napan tutor</td>\n",
       "      <td>5</td>\n",
       "    </tr>\n",
       "    <tr>\n",
       "      <th>2</th>\n",
       "      <td>Napan tutor</td>\n",
       "      <td>Surly</td>\n",
       "      <td>4</td>\n",
       "    </tr>\n",
       "    <tr>\n",
       "      <th>3</th>\n",
       "      <td>Caladan Brood</td>\n",
       "      <td>K'azz D'Avore</td>\n",
       "      <td>6</td>\n",
       "    </tr>\n",
       "    <tr>\n",
       "      <th>4</th>\n",
       "      <td>K'azz D'Avore</td>\n",
       "      <td>Laseen</td>\n",
       "      <td>6</td>\n",
       "    </tr>\n",
       "    <tr>\n",
       "      <th>5</th>\n",
       "      <td>Napan tutor</td>\n",
       "      <td>Rigga</td>\n",
       "      <td>1</td>\n",
       "    </tr>\n",
       "    <tr>\n",
       "      <th>6</th>\n",
       "      <td>Rigga</td>\n",
       "      <td>Surly</td>\n",
       "      <td>3</td>\n",
       "    </tr>\n",
       "    <tr>\n",
       "      <th>7</th>\n",
       "      <td>Laseen</td>\n",
       "      <td>Rigga</td>\n",
       "      <td>15</td>\n",
       "    </tr>\n",
       "    <tr>\n",
       "      <th>8</th>\n",
       "      <td>Caladan Brood</td>\n",
       "      <td>Ilgrand Lender</td>\n",
       "      <td>2</td>\n",
       "    </tr>\n",
       "    <tr>\n",
       "      <th>9</th>\n",
       "      <td>Ilgrand Lender</td>\n",
       "      <td>K'azz D'Avore</td>\n",
       "      <td>2</td>\n",
       "    </tr>\n",
       "  </tbody>\n",
       "</table>\n",
       "</div>"
      ],
      "text/plain": [
       "           source          target  value\n",
       "0    Dassem Ultor          Laseen      2\n",
       "1          Laseen     Napan tutor      5\n",
       "2     Napan tutor           Surly      4\n",
       "3   Caladan Brood   K'azz D'Avore      6\n",
       "4   K'azz D'Avore          Laseen      6\n",
       "5     Napan tutor           Rigga      1\n",
       "6           Rigga           Surly      3\n",
       "7          Laseen           Rigga     15\n",
       "8   Caladan Brood  Ilgrand Lender      2\n",
       "9  Ilgrand Lender   K'azz D'Avore      2"
      ]
     },
     "execution_count": 32,
     "metadata": {},
     "output_type": "execute_result"
    }
   ],
   "source": [
    "print(relationship_df.size)\n",
    "relationship_df.head(10)"
   ]
  },
  {
   "cell_type": "code",
   "execution_count": 33,
   "id": "6bc4ad9f",
   "metadata": {},
   "outputs": [],
   "source": [
    "# save this relational dataframe as csv\n",
    "relationship_df.to_csv(\"malazan_relationships_\"+book.name.title()+\".csv\", index=False)"
   ]
  },
  {
   "cell_type": "markdown",
   "id": "e3dbff45-e023-4ca3-bf71-a8ada643e418",
   "metadata": {},
   "source": [
    "### The most important characters in The Malazan Book of the Fallen"
   ]
  },
  {
   "cell_type": "raw",
   "id": "552ba662",
   "metadata": {
    "jupyter": {
     "outputs_hidden": true
    },
    "tags": []
   },
   "source": [
    "# Degree centrality\n",
    "degree_dict = nx.degree_centrality(G)\n",
    "degree_dict"
   ]
  },
  {
   "cell_type": "raw",
   "id": "b6b270d3",
   "metadata": {},
   "source": [
    "degree_df = pd.DataFrame.from_dict(degree_dict, orient='index', columns=['centrality'])\n",
    "# Plot top 10 nodes\n",
    "degree_df.sort_values('centrality', ascending=False)[0:9].plot(kind=\"bar\")"
   ]
  },
  {
   "cell_type": "raw",
   "id": "37d398cb",
   "metadata": {},
   "source": [
    "# Betweenness centrality\n",
    "betweenness_dict = nx.betweenness_centrality(G)\n",
    "betweenness_df = pd.DataFrame.from_dict(betweenness_dict, orient='index', columns=['centrality'])\n",
    "# Plot top 10 nodes\n",
    "betweenness_df.sort_values('centrality', ascending=False)[0:9].plot(kind=\"bar\")"
   ]
  },
  {
   "cell_type": "raw",
   "id": "28797d54",
   "metadata": {},
   "source": [
    "# Closeness centrality\n",
    "closeness_dict = nx.closeness_centrality(G)\n",
    "closeness_df = pd.DataFrame.from_dict(closeness_dict, orient='index', columns=['centrality'])\n",
    "# Plot top 10 nodes\n",
    "closeness_df.sort_values('centrality', ascending=False)[0:9].plot(kind=\"bar\")"
   ]
  },
  {
   "cell_type": "raw",
   "id": "11199608",
   "metadata": {},
   "source": [
    "# Save centrality measures\n",
    "nx.set_node_attributes(G, degree_dict, 'degree_centrality')\n",
    "nx.set_node_attributes(G, betweenness_dict, 'betweenness_centrality')\n",
    "nx.set_node_attributes(G, closeness_dict, 'closeness_centrality')"
   ]
  },
  {
   "cell_type": "markdown",
   "id": "51fb2a3a-1c74-47d4-a83b-62a1f6295ae6",
   "metadata": {},
   "source": [
    "### Evolution of characters' importance"
   ]
  },
  {
   "cell_type": "raw",
   "id": "9ddbfd1d",
   "metadata": {},
   "source": [
    "from lib.utils.functions import *"
   ]
  },
  {
   "cell_type": "raw",
   "id": "3d00fe39",
   "metadata": {},
   "source": [
    "# Initialize empty list for graphs from books\n",
    "books_graph = []\n",
    "all_books = [b for b in os.scandir('data') if '.txt' in b.name]\n",
    "# Load spacy English languague model\n",
    "nlp = spacy.load(\"en_core_web_sm\")\n",
    "\n",
    "# Sort dir entries by name\n",
    "all_books.sort(key=lambda x: x.name)"
   ]
  },
  {
   "cell_type": "raw",
   "id": "b6010fb2",
   "metadata": {
    "jupyter": {
     "outputs_hidden": true
    },
    "tags": []
   },
   "source": [
    "# Loop through book list and create graphs\n",
    "for book in all_books:\n",
    "    book_text = ner(book[:10000])\n",
    "    \n",
    "    # Get list of entities per sentences\n",
    "    sent_entity_df = get_ne_list_per_sentence(book_text)\n",
    "    \n",
    "    # Select only character entities\n",
    "    sent_entity_df['character_entities'] = sent_entity_df['entities'].apply(lambda x: filter_entity(x, character_df))\n",
    "\n",
    "    # Filter out sentences that don't have any character entities\n",
    "    sent_entity_df_filtered = sent_entity_df[sent_entity_df['character_entities'].map(len) > 0]\n",
    "    \n",
    "    # Take only first name of characters\n",
    "    sent_entity_df_filtered['character_entities'] = sent_entity_df_filtered['character_entities'].apply(lambda x: [item.split()[0] \n",
    "                                                                                                               for item in x])\n",
    "\n",
    "    # Create relationship df\n",
    "    relationship_df = create_relationships(df = sent_entity_df_filtered, window_size = 5)                                                                                                               \n",
    "    \n",
    "    # Create a graph from a pandas dataframe\n",
    "    G = nx.from_pandas_edgelist(relationship_df, \n",
    "                                source = \"source\", \n",
    "                                target = \"target\", \n",
    "                                edge_attr = \"value\", \n",
    "                                create_using = nx.Graph())     \n",
    "    \n",
    "    books_graph.append(G) "
   ]
  },
  {
   "cell_type": "raw",
   "id": "65ca46de",
   "metadata": {},
   "source": [
    "# Creating a list of degree centrality of all the books\n",
    "evol = [nx.degree_centrality(book) for book in books_graph]\n",
    "\n",
    "# Creating a DataFrame from the list of degree centralities in all the books\n",
    "degree_evol_df = pd.DataFrame.from_records(evol)\n",
    "\n",
    "# Plotting the degree centrality evolution of 5 main characters\n",
    "degree_evol_df[[\"Geralt\", \"Ciri\", \"Yennefer\", \"Dandelion\", \"Vesemir\"]].plot()"
   ]
  }
 ],
 "metadata": {
  "kernelspec": {
   "display_name": "Python 3 (ipykernel)",
   "language": "python",
   "name": "python3"
  },
  "language_info": {
   "codemirror_mode": {
    "name": "ipython",
    "version": 3
   },
   "file_extension": ".py",
   "mimetype": "text/x-python",
   "name": "python",
   "nbconvert_exporter": "python",
   "pygments_lexer": "ipython3",
   "version": "3.9.13"
  }
 },
 "nbformat": 4,
 "nbformat_minor": 5
}
